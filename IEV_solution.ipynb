{
 "cells": [
  {
   "cell_type": "code",
   "execution_count": 9,
   "metadata": {},
   "outputs": [
    {
     "name": "stdout",
     "output_type": "stream",
     "text": [
      "3.4999860000000007\n"
     ]
    }
   ],
   "source": [
    "#naive computation of dice roll\n",
    "e = 0.0\n",
    "for k in range (1,7):\n",
    "    e += k * 0.166666\n",
    "print(e)"
   ]
  },
  {
   "cell_type": "code",
   "execution_count": 18,
   "metadata": {},
   "outputs": [
    {
     "name": "stdout",
     "output_type": "stream",
     "text": [
      "a: 12 \n",
      "b: 100\n",
      "expected =  56.0\n",
      "actual =  55.98505\n"
     ]
    }
   ],
   "source": [
    "#basic proof test for uniform random variables between values a and b\n",
    "\n",
    "import random\n",
    "import numpy\n",
    "\n",
    "a = 12\n",
    "b = 100\n",
    "print('a:', a, '\\nb:', b)\n",
    "\n",
    "EX = (a + b)/2\n",
    "print('expected = ',EX)\n",
    "\n",
    "res = []\n",
    "for i in range(0,100000):\n",
    "    res.append(random.randint(a,b))\n",
    "print('actual = ', numpy.average(res))\n"
   ]
  },
  {
   "cell_type": "code",
   "execution_count": 31,
   "metadata": {},
   "outputs": [
    {
     "data": {
      "text/plain": [
       "150288.0"
      ]
     },
     "execution_count": 31,
     "metadata": {},
     "output_type": "execute_result"
    }
   ],
   "source": [
    "#simple solution for rosalind IEV\n",
    "\n",
    "def offspring(AAAA,AAAa,AAaa,AaAa,Aaaa,aaaa):\n",
    "    return ((AAAA+AAAa+AAaa+(0.75*AaAa)+(0.5*Aaaa))*2)\n",
    "\n",
    "offspring(19304,16121,17642,18112,16986,18422)"
   ]
  },
  {
   "cell_type": "code",
   "execution_count": 30,
   "metadata": {},
   "outputs": [
    {
     "name": "stdout",
     "output_type": "stream",
     "text": [
      "19304,16121,17642,18112,16986,18422,"
     ]
    }
   ],
   "source": [
    "#parses the sequence I got so I can just copy it into the \"offspring\" function\n",
    "for item in '19304 16121 17642 18112 16986 18422'.split(' '):\n",
    "    print(int(item),end=',')"
   ]
  },
  {
   "cell_type": "code",
   "execution_count": null,
   "metadata": {},
   "outputs": [],
   "source": []
  }
 ],
 "metadata": {
  "kernelspec": {
   "display_name": "Python 3",
   "language": "python",
   "name": "python3"
  },
  "language_info": {
   "codemirror_mode": {
    "name": "ipython",
    "version": 3
   },
   "file_extension": ".py",
   "mimetype": "text/x-python",
   "name": "python",
   "nbconvert_exporter": "python",
   "pygments_lexer": "ipython3",
   "version": "3.6.3"
  }
 },
 "nbformat": 4,
 "nbformat_minor": 2
}
